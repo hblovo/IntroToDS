{
 "cells": [
  {
   "cell_type": "markdown",
   "metadata": {},
   "source": [
    "# Introduction to Data Science 2025\n",
    "\n",
    "# Week 1"
   ]
  },
  {
   "cell_type": "markdown",
   "metadata": {},
   "source": [
    "## Exercise 1 | Matrix warm-up\n",
    "<span style=\"background-color: #ccfff2\"> *Note: You can find tutorials for NumPy and Pandas under 'Useful tutorials' in the course material.*</span>"
   ]
  },
  {
   "cell_type": "markdown",
   "metadata": {},
   "source": [
    "One of the most useful properties of any scientific programming language (Python with NumPy, R, Julia, etc) is that they allow us to work with matrices efficiently. Let's learn more about these features!\n",
    "\n",
    "### 1.1 Basics\n",
    "\n",
    "1. Let's start by creating two arrays <span style=\"background-color: #ccfff2\"> A</span> and <span style=\"background-color: #ccfff2\"> B</span> which each have the integers <span style=\"background-color: #ccfff2\"> 0, 1, 2, ..., 1e7-1</span>. Use the normal arrays or lists of the programming language you are using, e.g. *list* or *[ ]* or *numpy.array()* in Python."
   ]
  },
  {
   "cell_type": "code",
   "metadata": {
    "ExecuteTime": {
     "end_time": "2025-09-05T06:18:06.520948Z",
     "start_time": "2025-09-05T06:18:06.225396Z"
    }
   },
   "source": [
    "import json\n",
    "\n",
    "# Use this cell for your code\n",
    "import numpy as np\n",
    "N = int(1e7)\n",
    "A = np.arange(0,N,1)\n",
    "B = np.arange(0,N,1)"
   ],
   "outputs": [],
   "execution_count": 1
  },
  {
   "cell_type": "markdown",
   "metadata": {},
   "source": [
    "2. Create a function that uses a <span style=\"background-color: #ccfff2\"> for loop</span> or equivalent to return a new array <span style=\"background-color: #ccfff2\"> C</span>, which contains the <span style=\"background-color: #ccfff2\"> element-wise sum of *A* and *B*</span>, e.g. C should contain the integers <span style=\"background-color: #ccfff2\"> 0, 2, 4, etc</span>."
   ]
  },
  {
   "cell_type": "code",
   "metadata": {
    "ExecuteTime": {
     "end_time": "2025-09-05T06:18:11.586966Z",
     "start_time": "2025-09-05T06:18:06.553643Z"
    }
   },
   "source": [
    "def add_with_for(A,B):\n",
    "    C = np.empty(N,dtype=int)\n",
    "    for i in range(N):\n",
    "        C[i] = A[i] + B[i]\n",
    "    return C\n",
    "\n",
    "C = add_with_for(A,B)\n",
    "print(C[:3])"
   ],
   "outputs": [
    {
     "name": "stdout",
     "output_type": "stream",
     "text": [
      "[0 2 4]\n"
     ]
    }
   ],
   "execution_count": 2
  },
  {
   "cell_type": "markdown",
   "metadata": {},
   "source": [
    "3. Next, let's create another function that uses NumPy (or equivalent) to do the same. To try it out, allocate two arrays (e.g. using <span style=\"background-color: #ccfff2\"> np.array</span> in NumPy) and add the arrays together using your function. Don't use loops, instead, find out how to add the two arrays directly. What do you notice in comparison to the previous function?"
   ]
  },
  {
   "cell_type": "code",
   "metadata": {
    "ExecuteTime": {
     "end_time": "2025-09-05T06:18:11.943542Z",
     "start_time": "2025-09-05T06:18:11.898271Z"
    }
   },
   "source": [
    "# Use this cell for your code\n",
    "C = A+B\n",
    "print(C[:3])\n",
    "\n",
    "#only 42ms,much faster than above 4s"
   ],
   "outputs": [
    {
     "name": "stdout",
     "output_type": "stream",
     "text": [
      "[0 2 4]\n"
     ]
    }
   ],
   "execution_count": 3
  },
  {
   "cell_type": "markdown",
   "metadata": {},
   "source": [
    "### 1.2 Array manipulation"
   ]
  },
  {
   "cell_type": "markdown",
   "metadata": {},
   "source": [
    "<span style=\"background-color: #ccfff2\"> *Note: for the following exercises, only use NumPy or equivalent functions. Don't use any loops.* </span>\n",
    "1. Create the following array:\n",
    "\n",
    "*[hint: <span style=\"background-color: #ccfff2\"> np.reshape</span>]*"
   ]
  },
  {
   "cell_type": "code",
   "metadata": {
    "ExecuteTime": {
     "end_time": "2025-09-05T06:18:12.177544Z",
     "start_time": "2025-09-05T06:18:12.157545Z"
    }
   },
   "source": [
    "# array([[ 0,  1,  2,  3,  4,  5,  6,  7,  8,  9],\n",
    "#        [10, 11, 12, 13, 14, 15, 16, 17, 18, 19],\n",
    "#        [20, 21, 22, 23, 24, 25, 26, 27, 28, 29],\n",
    "#        [30, 31, 32, 33, 34, 35, 36, 37, 38, 39],\n",
    "#        [40, 41, 42, 43, 44, 45, 46, 47, 48, 49],\n",
    "#        [50, 51, 52, 53, 54, 55, 56, 57, 58, 59],\n",
    "#        [60, 61, 62, 63, 64, 65, 66, 67, 68, 69],\n",
    "#        [70, 71, 72, 73, 74, 75, 76, 77, 78, 79],\n",
    "#        [80, 81, 82, 83, 84, 85, 86, 87, 88, 89],\n",
    "#        [90, 91, 92, 93, 94, 95, 96, 97, 98, 99]])"
   ],
   "outputs": [],
   "execution_count": 4
  },
  {
   "cell_type": "code",
   "metadata": {
    "ExecuteTime": {
     "end_time": "2025-09-05T06:18:12.208699Z",
     "start_time": "2025-09-05T06:18:12.190560Z"
    }
   },
   "source": [
    "# Use this cell for your code\n",
    "a = np.arange(100)\n",
    "a = a.reshape(10,10)\n",
    "print(a)"
   ],
   "outputs": [
    {
     "name": "stdout",
     "output_type": "stream",
     "text": [
      "[[ 0  1  2  3  4  5  6  7  8  9]\n",
      " [10 11 12 13 14 15 16 17 18 19]\n",
      " [20 21 22 23 24 25 26 27 28 29]\n",
      " [30 31 32 33 34 35 36 37 38 39]\n",
      " [40 41 42 43 44 45 46 47 48 49]\n",
      " [50 51 52 53 54 55 56 57 58 59]\n",
      " [60 61 62 63 64 65 66 67 68 69]\n",
      " [70 71 72 73 74 75 76 77 78 79]\n",
      " [80 81 82 83 84 85 86 87 88 89]\n",
      " [90 91 92 93 94 95 96 97 98 99]]\n"
     ]
    }
   ],
   "execution_count": 5
  },
  {
   "cell_type": "markdown",
   "metadata": {},
   "source": [
    "2. Create the following array:"
   ]
  },
  {
   "cell_type": "code",
   "metadata": {
    "ExecuteTime": {
     "end_time": "2025-09-05T06:18:12.285956Z",
     "start_time": "2025-09-05T06:18:12.268220Z"
    }
   },
   "source": [
    "# array([[0., 1., 0., 1., 0., 1., 0., 1., 0., 1.],\n",
    "#        [0., 1., 0., 1., 0., 1., 0., 1., 0., 1.],\n",
    "#        [0., 1., 0., 1., 0., 1., 0., 1., 0., 1.],\n",
    "#        [0., 1., 0., 1., 0., 1., 0., 1., 0., 1.],\n",
    "#        [0., 1., 0., 1., 0., 1., 0., 1., 0., 1.],\n",
    "#        [0., 1., 0., 1., 0., 1., 0., 1., 0., 1.],\n",
    "#        [0., 1., 0., 1., 0., 1., 0., 1., 0., 1.],\n",
    "#        [0., 1., 0., 1., 0., 1., 0., 1., 0., 1.],\n",
    "#        [0., 1., 0., 1., 0., 1., 0., 1., 0., 1.],\n",
    "#        [0., 1., 0., 1., 0., 1., 0., 1., 0., 1.]])"
   ],
   "outputs": [],
   "execution_count": 6
  },
  {
   "cell_type": "code",
   "metadata": {
    "ExecuteTime": {
     "end_time": "2025-09-05T06:18:12.378034Z",
     "start_time": "2025-09-05T06:18:12.359407Z"
    }
   },
   "source": [
    "# Use this cell for your code\n",
    "b = a % 2\n",
    "b = b.astype(float)\n",
    "print(b)"
   ],
   "outputs": [
    {
     "name": "stdout",
     "output_type": "stream",
     "text": [
      "[[0. 1. 0. 1. 0. 1. 0. 1. 0. 1.]\n",
      " [0. 1. 0. 1. 0. 1. 0. 1. 0. 1.]\n",
      " [0. 1. 0. 1. 0. 1. 0. 1. 0. 1.]\n",
      " [0. 1. 0. 1. 0. 1. 0. 1. 0. 1.]\n",
      " [0. 1. 0. 1. 0. 1. 0. 1. 0. 1.]\n",
      " [0. 1. 0. 1. 0. 1. 0. 1. 0. 1.]\n",
      " [0. 1. 0. 1. 0. 1. 0. 1. 0. 1.]\n",
      " [0. 1. 0. 1. 0. 1. 0. 1. 0. 1.]\n",
      " [0. 1. 0. 1. 0. 1. 0. 1. 0. 1.]\n",
      " [0. 1. 0. 1. 0. 1. 0. 1. 0. 1.]]\n"
     ]
    }
   ],
   "execution_count": 7
  },
  {
   "cell_type": "markdown",
   "metadata": {},
   "source": [
    "3. Create the following array (D):"
   ]
  },
  {
   "cell_type": "code",
   "metadata": {
    "ExecuteTime": {
     "end_time": "2025-09-05T06:18:12.751691Z",
     "start_time": "2025-09-05T06:18:12.732689Z"
    }
   },
   "source": [
    "# array([[0., 1., 1., 1., 1., 1., 1., 1., 1., 1.],\n",
    "#        [1., 0., 1., 1., 1., 1., 1., 1., 1., 1.],\n",
    "#        [1., 1., 0., 1., 1., 1., 1., 1., 1., 1.],\n",
    "#        [1., 1., 1., 0., 1., 1., 1., 1., 1., 1.],\n",
    "#        [1., 1., 1., 1., 0., 1., 1., 1., 1., 1.],\n",
    "#        [1., 1., 1., 1., 1., 0., 1., 1., 1., 1.],\n",
    "#        [1., 1., 1., 1., 1., 1., 0., 1., 1., 1.],\n",
    "#        [1., 1., 1., 1., 1., 1., 1., 0., 1., 1.],\n",
    "#        [1., 1., 1., 1., 1., 1., 1., 1., 0., 1.],\n",
    "#        [1., 1., 1., 1., 1., 1., 1., 1., 1., 0.]])"
   ],
   "outputs": [],
   "execution_count": 8
  },
  {
   "cell_type": "code",
   "metadata": {
    "ExecuteTime": {
     "end_time": "2025-09-05T06:18:12.782698Z",
     "start_time": "2025-09-05T06:18:12.766688Z"
    }
   },
   "source": [
    "# Use this cell for your code\n",
    "D = np.ones((10,10),dtype=float)\n",
    "np.fill_diagonal(D,0)\n",
    "print(D)"
   ],
   "outputs": [
    {
     "name": "stdout",
     "output_type": "stream",
     "text": [
      "[[0. 1. 1. 1. 1. 1. 1. 1. 1. 1.]\n",
      " [1. 0. 1. 1. 1. 1. 1. 1. 1. 1.]\n",
      " [1. 1. 0. 1. 1. 1. 1. 1. 1. 1.]\n",
      " [1. 1. 1. 0. 1. 1. 1. 1. 1. 1.]\n",
      " [1. 1. 1. 1. 0. 1. 1. 1. 1. 1.]\n",
      " [1. 1. 1. 1. 1. 0. 1. 1. 1. 1.]\n",
      " [1. 1. 1. 1. 1. 1. 0. 1. 1. 1.]\n",
      " [1. 1. 1. 1. 1. 1. 1. 0. 1. 1.]\n",
      " [1. 1. 1. 1. 1. 1. 1. 1. 0. 1.]\n",
      " [1. 1. 1. 1. 1. 1. 1. 1. 1. 0.]]\n"
     ]
    }
   ],
   "execution_count": 9
  },
  {
   "cell_type": "markdown",
   "metadata": {},
   "source": [
    "4. Create the following array (E):"
   ]
  },
  {
   "cell_type": "code",
   "metadata": {
    "ExecuteTime": {
     "end_time": "2025-09-05T06:18:12.860219Z",
     "start_time": "2025-09-05T06:18:12.846220Z"
    }
   },
   "source": [
    "# array([[1., 1., 1., 1., 1., 1., 1., 1., 1., 0.],\n",
    "#        [1., 1., 1., 1., 1., 1., 1., 1., 0., 1.],\n",
    "#        [1., 1., 1., 1., 1., 1., 1., 0., 1., 1.],\n",
    "#        [1., 1., 1., 1., 1., 1., 0., 1., 1., 1.],\n",
    "#        [1., 1., 1., 1., 1., 0., 1., 1., 1., 1.],\n",
    "#        [1., 1., 1., 1., 0., 1., 1., 1., 1., 1.],\n",
    "#        [1., 1., 1., 0., 1., 1., 1., 1., 1., 1.],\n",
    "#        [1., 1., 0., 1., 1., 1., 1., 1., 1., 1.],\n",
    "#        [1., 0., 1., 1., 1., 1., 1., 1., 1., 1.],\n",
    "#        [0., 1., 1., 1., 1., 1., 1., 1., 1., 1.]])"
   ],
   "outputs": [],
   "execution_count": 10
  },
  {
   "cell_type": "code",
   "metadata": {
    "ExecuteTime": {
     "end_time": "2025-09-05T06:18:12.891232Z",
     "start_time": "2025-09-05T06:18:12.874220Z"
    }
   },
   "source": [
    "# Use this cell for your code\n",
    "E = np.ones((10,10),dtype=float)\n",
    "i,j = np.indices((10,10))\n",
    "E[i+j == 9] = 0\n",
    "print(E)"
   ],
   "outputs": [
    {
     "name": "stdout",
     "output_type": "stream",
     "text": [
      "[[1. 1. 1. 1. 1. 1. 1. 1. 1. 0.]\n",
      " [1. 1. 1. 1. 1. 1. 1. 1. 0. 1.]\n",
      " [1. 1. 1. 1. 1. 1. 1. 0. 1. 1.]\n",
      " [1. 1. 1. 1. 1. 1. 0. 1. 1. 1.]\n",
      " [1. 1. 1. 1. 1. 0. 1. 1. 1. 1.]\n",
      " [1. 1. 1. 1. 0. 1. 1. 1. 1. 1.]\n",
      " [1. 1. 1. 0. 1. 1. 1. 1. 1. 1.]\n",
      " [1. 1. 0. 1. 1. 1. 1. 1. 1. 1.]\n",
      " [1. 0. 1. 1. 1. 1. 1. 1. 1. 1.]\n",
      " [0. 1. 1. 1. 1. 1. 1. 1. 1. 1.]]\n"
     ]
    }
   ],
   "execution_count": 11
  },
  {
   "cell_type": "markdown",
   "metadata": {},
   "source": [
    "5. Call the last two matrices <span style=\"background-color: #ccfff2\">D</span> and <span style=\"background-color: #ccfff2\">E</span>, respectively. Show that the determinant of their product (matrix multiplication) is the same as the product of their determinants. That is calculate both <span style=\"background-color: #ccfff2\">det(DE)</span> and <span style=\"background-color: #ccfff2\">det(D) * det(E)</span>, and show that they are the same. Is it a coincidence? (I think not) The product of the determinants (or the determinant of the product) should be -81."
   ]
  },
  {
   "cell_type": "code",
   "metadata": {
    "ExecuteTime": {
     "end_time": "2025-09-05T06:18:13.109576Z",
     "start_time": "2025-09-05T06:18:13.083057Z"
    }
   },
   "source": [
    "# Use this cell for your code\n",
    "DE = np.dot(D,E)\n",
    "D_E = np.linalg.det(D) * np.linalg.det(E)\n",
    "\n",
    "print(np.linalg.det(DE))\n",
    "\n",
    "print(D_E)"
   ],
   "outputs": [
    {
     "name": "stdout",
     "output_type": "stream",
     "text": [
      "-81.0000000000001\n",
      "-81.0\n"
     ]
    }
   ],
   "execution_count": 12
  },
  {
   "cell_type": "markdown",
   "metadata": {},
   "source": [
    "-- *Use this markdown cell for your written answer* --"
   ]
  },
  {
   "cell_type": "markdown",
   "metadata": {},
   "source": [
    "### 1.3 Slicing\n",
    "\n",
    "Array slicing is a powerful way to extract data from an array. Let's practice array slicing with the following exercises!\n",
    "\n",
    "1. Load the [California housing dataset](https://scikit-learn.org/stable/modules/generated/sklearn.datasets.fetch_california_housing.html). The data should be a matrix of shape <span style=\"background-color: #ccfff2\">(20640, 8)</span>, that is 20640 rows and 8 columns. Use the <span style=\"background-color: #ccfff2\">.shape</span> attribute of NumPy arrays to verify this. Here's a [description of the fields](https://scikit-learn.org/stable/datasets/real_world.html#california-housing-dataset)."
   ]
  },
  {
   "cell_type": "code",
   "metadata": {
    "ExecuteTime": {
     "end_time": "2025-09-05T06:18:16.857163Z",
     "start_time": "2025-09-05T06:18:13.353653Z"
    }
   },
   "source": [
    "# Use this cell for your code\n",
    "from sklearn.datasets import fetch_california_housing\n",
    "import numpy as np\n",
    "\n",
    "# 加载数据\n",
    "c = fetch_california_housing()\n",
    "\n",
    "matrix = c.data\n",
    "print(matrix.shape)"
   ],
   "outputs": [
    {
     "name": "stdout",
     "output_type": "stream",
     "text": [
      "(20640, 8)\n"
     ]
    }
   ],
   "execution_count": 13
  },
  {
   "cell_type": "markdown",
   "metadata": {},
   "source": [
    "2. Select rows where the average number of bedrooms <span style=\"background-color: #ccfff2\">(AveBedrms)</span> is higher than 2. The first few row indices should be <span style=\"background-color: #ccfff2\">710,  1023,  1024, ...</span> (zero-indexed). Count these houses - how many rows are selected? *[hint: <span style=\"background-color: #ccfff2\">np.where</span>]*"
   ]
  },
  {
   "cell_type": "code",
   "metadata": {
    "ExecuteTime": {
     "end_time": "2025-09-05T06:18:16.980596Z",
     "start_time": "2025-09-05T06:18:16.958358Z"
    }
   },
   "source": [
    "# Use this cell for your code\n",
    "print(c.feature_names)\n",
    "\n",
    "rows = np.where(matrix[:,3] > 2)[0]\n",
    "print(rows[0:3])"
   ],
   "outputs": [
    {
     "name": "stdout",
     "output_type": "stream",
     "text": [
      "['MedInc', 'HouseAge', 'AveRooms', 'AveBedrms', 'Population', 'AveOccup', 'Latitude', 'Longitude']\n",
      "[ 710 1023 1024]\n"
     ]
    }
   ],
   "execution_count": 14
  },
  {
   "cell_type": "markdown",
   "metadata": {},
   "source": [
    "3. Select the rows where the median house age (i.e. median in each block group) <span style=\"background-color: #ccfff2\">(HouseAge)</span> is between 1 and 3 years (inclusive). There should be **124** of these."
   ]
  },
  {
   "cell_type": "code",
   "metadata": {
    "ExecuteTime": {
     "end_time": "2025-09-05T06:18:17.058107Z",
     "start_time": "2025-09-05T06:18:17.039928Z"
    }
   },
   "source": [
    "# Use this cell for your code\n",
    "rows = np.where((matrix[:,1] >= 1) & (matrix[:,1] <= 3))[0]\n",
    "print(len(rows))\n"
   ],
   "outputs": [
    {
     "name": "stdout",
     "output_type": "stream",
     "text": [
      "124\n"
     ]
    }
   ],
   "execution_count": 15
  },
  {
   "cell_type": "markdown",
   "metadata": {},
   "source": [
    "4. Find the mean of the block group population <span style=\"background-color: #ccfff2\">(Population)</span> for homes whose median value is more than 25000 USD (the target variable). It should be around **1425.68**."
   ]
  },
  {
   "cell_type": "code",
   "metadata": {
    "ExecuteTime": {
     "end_time": "2025-09-05T06:18:17.134585Z",
     "start_time": "2025-09-05T06:18:17.122586Z"
    }
   },
   "source": [
    "# Use this cell for your code\n",
    "print(c.target)\n",
    "rows = np.where(c.target > 0.25)[0]\n",
    "mean = np.mean(matrix[rows,4])\n",
    "print(mean)"
   ],
   "outputs": [
    {
     "name": "stdout",
     "output_type": "stream",
     "text": [
      "[4.526 3.585 3.521 ... 0.923 0.847 0.894]\n",
      "1425.6833737275813\n"
     ]
    }
   ],
   "execution_count": 16
  },
  {
   "cell_type": "markdown",
   "metadata": {},
   "source": [
    "## Exercise 2 | Working with text data\n",
    "\n",
    "Next, let's look into some text data. We will be looking into Amazon reviews, and the necessary steps to transform a raw dataset into a format more suitable for prediction tasks.\n",
    "\n",
    "1. Download the automotive 5-core dataset from [here](https://jmcauley.ucsd.edu/data/amazon_v2/categoryFilesSmall/Automotive_5.json.gz). Next, you can extract the data in <span style=\"background-color: #ccfff2\">JSON</span> format. You can also download one of the bigger ones, if you are feeling ambitious. Open the JSON file. Access the <span style=\"background-color: #ccfff2\">reviewText</span> field, which contains the unstructured review text written by the user.\n",
    "\n",
    "For instance, the first review reads as follows: \n",
    "\n",
    "*'After I wrote the below review, the manufacturer contacted me and explained how to use this.  Instead of the (current) picture on Amazon where the phone is placed vertically, you actually use the stand with the phone placed horizontally. [...]'*"
   ]
  },
  {
   "cell_type": "code",
   "metadata": {
    "ExecuteTime": {
     "end_time": "2025-09-05T06:18:39.128248Z",
     "start_time": "2025-09-05T06:18:17.211267Z"
    }
   },
   "source": [
    "# Use this cell for your code\n",
    "import json\n",
    "address = r\"C:\\Users\\Lenovo\\Desktop\\Helsinki University\\Period1\\Introduction to Data Science\\Homework\\Week1\\Automotive_5.json\"\n",
    "\n",
    "with open(address,\"r\") as f:\n",
    "    data = [json.loads(line) for line in f]\n",
    "\n",
    "print(data[0].keys())"
   ],
   "outputs": [
    {
     "name": "stdout",
     "output_type": "stream",
     "text": [
      "dict_keys(['overall', 'verified', 'reviewTime', 'reviewerID', 'asin', 'style', 'reviewerName', 'reviewText', 'summary', 'unixReviewTime'])\n"
     ]
    }
   ],
   "execution_count": 17
  },
  {
   "metadata": {
    "ExecuteTime": {
     "end_time": "2025-09-05T06:18:39.286661Z",
     "start_time": "2025-09-05T06:18:39.266165Z"
    }
   },
   "cell_type": "code",
   "source": "print(data[0]['reviewText'])",
   "outputs": [
    {
     "name": "stdout",
     "output_type": "stream",
     "text": [
      "After I wrote the below review, the manufacturer contacted me and explained how to use this.  Instead of the (current) picture on Amazon where the phone is placed vertically, you actually use the stand with the phone placed horizontally.  Then the charge / sync cable goes through the hole and you can charge from the side.  When used in landscape position this stand does make more sense so I'm upgrading this review from 2 stars to 4 stars (which I rarely do, but in this case user error) with a star off for lack of documentation.  Manufacturer has said he will include directions and I would also encourage him to update the photos on Amazon with more examples of how this can be used.  The wood quality is indeed good and it's a sturdy little stand.  I'm trying to think of when I'd actually use this stand... perhaps for Facetime chats.  I also think it would be useful for someone in an open office environment if they want to keep their phone on their desk and see alerts / notifications easily.  Hope this updated review helps.\n",
      "\n",
      "ORIGINAL REVIEW:\n",
      "I am throwing this stand in the garbage.  While it's crafted of a nice wood, it is not functional as near as I can tell.  It does not come with instructions and as you can see from the product description, even that is confusing since the English is poorly translated Chinese.  The iPhone sits on the stand just fine, but when it's on the stand, there is no way the plug on the bottom  will plug in -- the stand blocks it.  If you turn the iPhone over, the plug is on the top, which just looks strange.  And I'm not at all sure what the hole in the back of the stand is supposed to do.  Also included are four plastic feet, again no instructions, so I affixed them to the bottom of the stand and it began to wobble.\n",
      "\n",
      "Perhaps someone else will figure out how to work this thing and post a review, but as far as I'm concerned, the out of the box experience was terrible.\n",
      "\n",
      "Sorry, I cannot recommend.\n",
      "\n",
      "Sample provided in exchange for an honest review.\n"
     ]
    }
   ],
   "execution_count": 18
  },
  {
   "cell_type": "markdown",
   "metadata": {},
   "source": [
    "2. Next, let's follow some steps to normalize the text data.\n",
    "\n",
    "When dealing with natural language, it is important to notice that while, for example, the words \"Copper\" and \"copper\" are represented by two different strings, they have the same meaning. When applying statistical methods on this data, it is useful to ensure that words with the same meaning are represented by the same string.\n",
    "\n",
    "* <span style=\"background-color: #ccfff2\">Downcasing</span>: Let's first downcase the contents of the <span style=\"background-color: #ccfff2\">reviewText</span> field.\n",
    "\n",
    "Now the first review should be:\n",
    "\n",
    "*'after i wrote the below review, the manufacturer contacted me and explained how to use this.  instead of the (current) picture on amazon where the phone is placed vertically, you actually use the stand with the phone placed horizontally.'*"
   ]
  },
  {
   "cell_type": "code",
   "metadata": {
    "ExecuteTime": {
     "end_time": "2025-09-05T06:18:40.768861Z",
     "start_time": "2025-09-05T06:18:39.310080Z"
    }
   },
   "source": [
    "# Use this cell for your code\n",
    "def process(text):\n",
    "    return text.lower()\n",
    "\n",
    "for doc in data:\n",
    "    if 'reviewText' in doc:\n",
    "        doc['reviewText'] = process(doc['reviewText'])\n",
    "    else:\n",
    "        doc['reviewText'] = \"\"\n",
    "\n",
    "print(data[0]['reviewText'])"
   ],
   "outputs": [
    {
     "name": "stdout",
     "output_type": "stream",
     "text": [
      "after i wrote the below review, the manufacturer contacted me and explained how to use this.  instead of the (current) picture on amazon where the phone is placed vertically, you actually use the stand with the phone placed horizontally.  then the charge / sync cable goes through the hole and you can charge from the side.  when used in landscape position this stand does make more sense so i'm upgrading this review from 2 stars to 4 stars (which i rarely do, but in this case user error) with a star off for lack of documentation.  manufacturer has said he will include directions and i would also encourage him to update the photos on amazon with more examples of how this can be used.  the wood quality is indeed good and it's a sturdy little stand.  i'm trying to think of when i'd actually use this stand... perhaps for facetime chats.  i also think it would be useful for someone in an open office environment if they want to keep their phone on their desk and see alerts / notifications easily.  hope this updated review helps.\n",
      "\n",
      "original review:\n",
      "i am throwing this stand in the garbage.  while it's crafted of a nice wood, it is not functional as near as i can tell.  it does not come with instructions and as you can see from the product description, even that is confusing since the english is poorly translated chinese.  the iphone sits on the stand just fine, but when it's on the stand, there is no way the plug on the bottom  will plug in -- the stand blocks it.  if you turn the iphone over, the plug is on the top, which just looks strange.  and i'm not at all sure what the hole in the back of the stand is supposed to do.  also included are four plastic feet, again no instructions, so i affixed them to the bottom of the stand and it began to wobble.\n",
      "\n",
      "perhaps someone else will figure out how to work this thing and post a review, but as far as i'm concerned, the out of the box experience was terrible.\n",
      "\n",
      "sorry, i cannot recommend.\n",
      "\n",
      "sample provided in exchange for an honest review.\n"
     ]
    }
   ],
   "execution_count": 19
  },
  {
   "cell_type": "markdown",
   "metadata": {},
   "source": [
    "3. Let's continue with punctuation and stop word removal. Stop words are words like \"and\", \"the\", etc. They are usually very common words that have little to do with the actual content matter. There's plenty openly available lists of stop words for almost any (natural) language.\n",
    "\n",
    "* <span style=\"background-color: #ccfff2\">Punctuation and stop-word removal</span>: Let's now remove all punctuation, as well as the stop words. You can find a stop word list for English, e.g. [here](https://gist.github.com/xldrkp/4a3b1a33f10d37bedbe0068f2b4482e8#file-stopwords-en-txt).*(use the link to download a txt of english stopwords)* Save the stopwords in the file as \"stopwords-en.txt\".\n",
    "\n",
    "First review at this point reads as: \n",
    "\n",
    "*'wrote review manufacturer contacted explained current picture amazon phone vertically stand phone horizontally'*"
   ]
  },
  {
   "cell_type": "code",
   "metadata": {
    "ExecuteTime": {
     "end_time": "2025-09-05T06:19:03.872721Z",
     "start_time": "2025-09-05T06:18:40.959698Z"
    }
   },
   "source": [
    "# Use this cell for your code\n",
    "import string\n",
    "address = r\"C:\\Users\\Lenovo\\Desktop\\Helsinki University\\Period1\\Introduction to Data Science\\Homework\\Week1\\stopwords-en.txt\"\n",
    "with open(address,\"r\") as f:\n",
    "    stopwords = set(f.read().split())\n",
    "\n",
    "def process2(text):\n",
    "    if text is None:\n",
    "        return \"\"\n",
    "    text = text.translate(str.maketrans(\"\", \"\", string.punctuation))\n",
    "    words = text.split()\n",
    "    words = [w for w in words if w not in stopwords]\n",
    "    return \" \".join(words)\n",
    "\n",
    "for doc in data:\n",
    "    if 'reviewText' in doc:\n",
    "        doc['reviewText'] = process2(doc['reviewText'])\n",
    "    else:\n",
    "        doc['reviewText'] = \"\"\n",
    "\n",
    "print(data[0]['reviewText'])"
   ],
   "outputs": [
    {
     "name": "stdout",
     "output_type": "stream",
     "text": [
      "wrote review manufacturer contacted explained use instead current picture amazon phone placed vertically actually use stand phone placed horizontally charge sync cable goes hole charge used landscape position stand does make sense im upgrading review 2 stars 4 stars rarely case user error star lack documentation manufacturer said include directions encourage update photos amazon examples used wood quality good sturdy little stand im trying think id actually use stand facetime chats think useful open office environment want phone desk alerts notifications easily hope updated review helps original review throwing stand garbage crafted nice wood functional near tell does come instructions product description confusing english poorly translated chinese iphone sits stand just fine stand way plug plug stand blocks turn iphone plug just looks strange im sure hole stand supposed included plastic feet instructions affixed stand began wobble figure work thing post review far im concerned box experience terrible sorry recommend sample provided exchange honest review\n"
     ]
    }
   ],
   "execution_count": 20
  },
  {
   "cell_type": "markdown",
   "metadata": {},
   "source": [
    "4. Let's continue with stemming. For example, while the words \"swims\" and \"swim\" are different strings, they both refer to swimming. [Stemming](https://en.wikipedia.org/wiki/Stemming) refers to the process of mapping words from their inflected form to their base form, for instance: swims -> swim.\n",
    "\n",
    "* <span style=\"background-color: #ccfff2\">Stemming</span>: Apply a stemmer on the paragraphs, so that inflected forms are mapped to the base form. For example, for Python the popular natural language toolkit [nltk](http://www.nltk.org/howto/stem.html) has an easy to use stemmer. In case you are using R, you can try the [Snowball stemmer](https://www.rdocumentation.org/packages/corpus/versions/0.10.2/topics/stem_snowball). You can find out how to install nltk from [here](https://www.nltk.org/install.html). It will take a while to run! So, grab a coffee and wait :D\n",
    "\n",
    "Finally, after stemming: \n",
    "\n",
    "*'wrote review manufactur contact explain current pictur amazon phone vertic stand phone horizont'*"
   ]
  },
  {
   "cell_type": "code",
   "metadata": {
    "ExecuteTime": {
     "end_time": "2025-09-05T06:34:22.193615Z",
     "start_time": "2025-09-05T06:19:04.073670Z"
    }
   },
   "source": [
    "# Use this cell for your code\n",
    "from nltk.stem import PorterStemmer\n",
    "def process3(text):\n",
    "    if text is None:\n",
    "        return \"\"\n",
    "    words = text.split()\n",
    "    words = [PorterStemmer().stem(w) for w in words]\n",
    "    return \" \".join(words)\n",
    "\n",
    "for doc in data:\n",
    "    if 'reviewText' in doc:\n",
    "        doc['reviewText'] = process3(doc['reviewText'])\n",
    "    else:\n",
    "        doc['reviewText'] = \"\""
   ],
   "outputs": [],
   "execution_count": 21
  },
  {
   "cell_type": "markdown",
   "metadata": {},
   "source": [
    "5. Finally, filter the data by selecting reviews where the field <span style=\"background-color: #ccfff2\">overall</span> is 4 or 5, and store the review texts in a file named <span style=\"background-color: #ccfff2\">pos.txt</span>. Similarly, select reviews with rating 1 or 2 and store them in a file named <span style=\"background-color: #ccfff2\">neg.txt</span>. Ignore the reviews with overall rating 3. Each line in the two files should contain exactly one preprocessed review text without the rating."
   ]
  },
  {
   "cell_type": "code",
   "metadata": {
    "ExecuteTime": {
     "end_time": "2025-09-05T06:34:26.947519Z",
     "start_time": "2025-09-05T06:34:22.672478Z"
    }
   },
   "source": [
    "# Use this cell for your code\n",
    "with open(r\"C:\\Users\\Lenovo\\Desktop\\Helsinki University\\Period1\\Introduction to Data Science\\Homework\\Week1\\pos.txt\", \"w\") as pos_file, \\\n",
    "     open(r\"C:\\Users\\Lenovo\\Desktop\\Helsinki University\\Period1\\Introduction to Data Science\\Homework\\Week1\\neg.txt\", \"w\") as neg_file:\n",
    "\n",
    "    for doc in data:\n",
    "        rating = doc.get('overall', 3)\n",
    "        review = doc.get('reviewText', \"\").strip()\n",
    "        if rating in [4, 5]:\n",
    "            if review:\n",
    "                pos_file.write(review + \"\\n\")\n",
    "        elif rating in [1, 2]:\n",
    "            if review:\n",
    "                neg_file.write(review + \"\\n\")"
   ],
   "outputs": [],
   "execution_count": 22
  },
  {
   "cell_type": "markdown",
   "metadata": {},
   "source": [
    "## Exercise 3 | SQL basics\n",
    "\n",
    "Next, let's take a refresher on the basics of SQL. In this exercise, you will be working on the simplified Northwind 2000 SQLite database. You can download the database from Kaggle [here](https://courses.mooc.fi/api/v0/files/course/f92ffc32-2dd4-421d-87f3-c48800422cc5/files/VEKX2bxGCDGyojG902gmYZTXCnrAQw.zip).\n",
    "\n",
    "To test your SQL queries and complete the exercise, you can download and install SQLite if you don't yet have it installed.\n",
    "\n",
    "Please write SQL queries for the tasks on the simplified Northwind 2000 SQLite database.\n",
    "\n",
    "1. List the first name, last name, and hire date of all employees hired after January 1st, 1994.\n",
    "\n",
    "2. Count how many orders each customer has placed.\n",
    "\n",
    "3. Find the names of all customers who have ordered the product \"Chai\".\n",
    "\n",
    "4. Find all orders that have been placed but not yet shipped.\n",
    "\n",
    "5. Find the customer who has placed the most orders."
   ]
  },
  {
   "metadata": {},
   "cell_type": "code",
   "outputs": [],
   "execution_count": null,
   "source": [
    "# sqlite> .schema Employees\n",
    "# CREATE TABLE [Employees]\n",
    "# (      [EmployeeID] INTEGER PRIMARY KEY AUTOINCREMENT,\n",
    "#        [LastName] TEXT,\n",
    "#        [FirstName] TEXT,\n",
    "#        [Title] TEXT,\n",
    "#        [TitleOfCourtesy] TEXT,\n",
    "#        [BirthDate] DATE,\n",
    "#        [HireDate] DATE,\n",
    "#        [Address] TEXT,\n",
    "#        [City] TEXT,\n",
    "#        [Region] TEXT,\n",
    "#        [PostalCode] TEXT,\n",
    "#        [Country] TEXT,\n",
    "#        [HomePhone] TEXT,\n",
    "#        [Extension] TEXT,\n",
    "#        [ReportsTo] INTEGER,\n",
    "#            FOREIGN KEY ([ReportsTo]) REFERENCES [Employees] ([EmployeeID])\n",
    "#                 ON DELETE NO ACTION ON UPDATE NO ACTION\n",
    "# );"
   ]
  },
  {
   "metadata": {},
   "cell_type": "code",
   "outputs": [],
   "execution_count": null,
   "source": [
    "#List the first name, last name, and hire date of all employees hired after January 1st, 1994.\n",
    "\n",
    "#Answer:\n",
    "sqlite> select FirstName, LastName,HireDate from Employees where HireDate >= \"1994-01-01\";\n",
    "\n",
    "\n",
    "# Robert|King|1994-01-02\n",
    "# Laura|Callahan|1994-03-05\n",
    "# Anne|Dodsworth|1994-11-15"
   ]
  },
  {
   "metadata": {},
   "cell_type": "code",
   "outputs": [],
   "execution_count": null,
   "source": [
    "#Count how many orders each customer has placed.\n",
    "sqlite> select c.CustomerID,c.ContactName,count(o.OrderID) as cnt from Customers c join Orders o on c.CustomerID = o.CustomerID group by c.CustomerID;\n",
    "# ALFKI|Maria Anders|6\n",
    "# ANATR|Ana Trujillo|4\n",
    "# ANTON|Antonio Moreno|7\n",
    "# AROUT|Thomas Hardy|13\n",
    "# BERGS|Christina Berglund|18\n",
    "# BLAUS|Hanna Moos|7\n",
    "# BLONP|Frédérique Citeaux|11\n",
    "# BOLID|Martín Sommer|3\n",
    "# BONAP|Laurence Lebihan|17\n",
    "# BOTTM|Elizabeth Lincoln|14\n",
    "# BSBEV|Victoria Ashworth|10\n",
    "# CACTU|Patricio Simpson|6\n",
    "# CENTC|Francisco Chang|1\n",
    "# CHOPS|Yang Wang|8\n",
    "# COMMI|Pedro Afonso|5\n",
    "# CONSH|Elizabeth Brown|3\n",
    "# DRACD|Sven Ottlieb|6\n",
    "# DUMON|Janine Labrune|4\n",
    "# EASTC|Ann Devon|8\n",
    "# ERNSH|Roland Mendel|30\n",
    "# FAMIA|Aria Cruz|7\n",
    "# FOLIG|Martine Rancé|5\n",
    "# FOLKO|Maria Larsson|19\n",
    "# FRANK|Peter Franken|15\n",
    "# FRANR|Carine Schmitt|3\n",
    "# FRANS|Paolo Accorti|6\n",
    "# FURIB|Lino Rodriguez|8\n",
    "# GALED|Eduardo Saavedra|5\n",
    "# GODOS|José Pedro Freyre|10\n",
    "# GOURL|André Fonseca|9\n",
    "# GREAL|Howard Snyder|11\n",
    "# GROSR|Manuel Pereira|2\n",
    "# HANAR|Mario Pontes|14\n",
    "# HILAA|Carlos Hernández|18\n",
    "# HUNGC|Yoshi Latimer|5\n",
    "# HUNGO|Patricia McKenna|19\n",
    "# ISLAT|Helen Bennett|10\n",
    "# KOENE|Philip Cramer|14\n",
    "# LACOR|Daniel Tonini|4\n",
    "# LAMAI|Annette Roulet|14\n",
    "# LAUGB|Yoshi Tannamuri|3\n",
    "# LAZYK|John Steel|2\n",
    "# LEHMS|Renate Messner|15\n",
    "# LETSS|Jaime Yorres|4\n",
    "# LILAS|Carlos González|14\n",
    "# LINOD|Felipe Izquierdo|12\n",
    "# LONEP|Fran Wilson|8\n",
    "# MAGAA|Giovanni Rovelli|10\n",
    "# MAISD|Catherine Dewey|7\n",
    "# MEREP|Jean Fresnière|13\n",
    "# MORGK|Alexander Feuer|5\n",
    "# NORTS|Simon Crowther|3\n",
    "# OCEAN|Yvonne Moncada|5\n",
    "# OLDWO|Rene Phillips|10\n",
    "# OTTIK|Henriette Pfalzheim|10\n",
    "# PERIC|Guillermo Fernández|6\n",
    "# PICCO|Georg Pipps|10\n",
    "# PRINI|Isabel de Castro|5\n",
    "# QUEDE|Bernardo Batista|9\n",
    "# QUEEN|Lúcia Carvalho|13\n",
    "# QUICK|Horst Kloss|28\n",
    "# RANCH|Sergio Gutiérrez|5\n",
    "# RATTC|Paula Wilson|18\n",
    "# REGGC|Maurizio Moroni|12\n",
    "# RICAR|Janete Limeira|11\n",
    "# RICSU|Michael Holz|10\n",
    "# ROMEY|Alejandra Camino|5\n",
    "# SANTG|Jonas Bergulfsen|6\n",
    "# SAVEA|Jose Pavarotti|31\n",
    "# SEVES|Hari Kumar|9\n",
    "# SIMOB|Jytte Petersen|7\n",
    "# SPECD|Dominique Perrier|4\n",
    "# SPLIR|Art Braunschweiger|9\n",
    "# SUPRD|Pascale Cartrain|12\n",
    "# THEBI|Liz Nixon|4\n",
    "# THECR|Liu Wong|3\n",
    "# TOMSP|Karin Josephs|6\n",
    "# TORTU|Miguel Angel Paolino|10\n",
    "# TRADH|Anabela Domingues|6\n",
    "# TRAIH|Helvetius Nagy|3\n",
    "# VAFFE|Palle Ibsen|11\n",
    "# VICTE|Mary Saveley|10\n",
    "# VINET|Paul Henriot|5\n",
    "# WANDK|Rita Müller|10\n",
    "# WARTH|Pirkko Koskitalo|15\n",
    "# WELLI|Paula Parente|9\n",
    "# WHITC|Karl Jablonski|14\n",
    "# WILMK|Matti Karttunen|7\n",
    "# WOLZA|Zbyszek Piestrzeniewicz|7\n"
   ]
  },
  {
   "metadata": {},
   "cell_type": "code",
   "outputs": [],
   "execution_count": null,
   "source": [
    "#Find the names of all customers who have ordered the product \"Chai\".\n",
    "\n",
    "sqlite> select distinct c.ContactName from Customers c\n",
    "   ...> join Orders o on c.CustomerID = o.CustomerID\n",
    "   ...> join OrderDetails od on o.OrderID = od.OrderID\n",
    "   ...> join Products p on od.ProductID = p.ProductID\n",
    "   ...> where p.ProductName = \"Chai\";\n",
    "# Horst Kloss\n",
    "# Paula Wilson\n",
    "# Fran Wilson\n",
    "# Rita Müller\n",
    "# Guillermo Fernández\n",
    "# Yang Wang\n",
    "# Lúcia Carvalho\n",
    "# Annette Roulet\n",
    "# Isabel de Castro\n",
    "# Renate Messner\n",
    "# Pirkko Koskitalo\n",
    "# Miguel Angel Paolino\n",
    "# Jean Fresnière\n",
    "# Janine Labrune\n",
    "# Zbyszek Piestrzeniewicz\n",
    "# Frédérique Citeaux\n",
    "# Patricia McKenna\n",
    "# Christina Berglund\n",
    "# Jose Pavarotti\n",
    "# Felipe Izquierdo\n",
    "# Simon Crowther\n",
    "# Carlos Hernández\n",
    "# Hari Kumar\n",
    "# Paula Parente\n",
    "# José Pedro Freyre\n",
    "# Elizabeth Lincoln\n",
    "# Liu Wong\n",
    "# Matti Karttunen\n",
    "# Howard Snyder\n",
    "# Pascale Cartrain\n",
    "# Ann Devon"
   ]
  },
  {
   "metadata": {},
   "cell_type": "code",
   "outputs": [],
   "execution_count": null,
   "source": [
    "#Find all orders that have been placed but not yet shipped.\n",
    "\n",
    "sqlite> select * from Orders where ShippedDate is NULL;\n",
    "# 11008|ERNSH|7|1998-04-08 00:00:00.000|1998-05-06 00:00:00.000||3|79.46\n",
    "# 11019|RANCH|6|1998-04-13 00:00:00.000|1998-05-11 00:00:00.000||3|3.17\n",
    "# 11039|LINOD|1|1998-04-21 00:00:00.000|1998-05-19 00:00:00.000||2|65\n",
    "# 11040|GREAL|4|1998-04-22 00:00:00.000|1998-05-20 00:00:00.000||3|18.84\n",
    "# 11045|BOTTM|6|1998-04-23 00:00:00.000|1998-05-21 00:00:00.000||2|70.58\n",
    "# 11051|LAMAI|7|1998-04-27 00:00:00.000|1998-05-25 00:00:00.000||3|2.79\n",
    "# 11054|CACTU|8|1998-04-28 00:00:00.000|1998-05-26 00:00:00.000||1|0.33\n",
    "# 11058|BLAUS|9|1998-04-29 00:00:00.000|1998-05-27 00:00:00.000||3|31.14\n",
    "# 11059|RICAR|2|1998-04-29 00:00:00.000|1998-06-10 00:00:00.000||2|85.8\n",
    "# 11061|GREAL|4|1998-04-30 00:00:00.000|1998-06-11 00:00:00.000||3|14.01\n",
    "# 11062|REGGC|4|1998-04-30 00:00:00.000|1998-05-28 00:00:00.000||2|29.93\n",
    "# 11065|LILAS|8|1998-05-01 00:00:00.000|1998-05-29 00:00:00.000||1|12.91\n",
    "# 11068|QUEEN|8|1998-05-04 00:00:00.000|1998-06-01 00:00:00.000||2|81.75\n",
    "# 11070|LEHMS|2|1998-05-05 00:00:00.000|1998-06-02 00:00:00.000||1|136\n",
    "# 11071|LILAS|1|1998-05-05 00:00:00.000|1998-06-02 00:00:00.000||1|0.93\n",
    "# 11072|ERNSH|4|1998-05-05 00:00:00.000|1998-06-02 00:00:00.000||2|258.64\n",
    "# 11073|PERIC|2|1998-05-05 00:00:00.000|1998-06-02 00:00:00.000||2|24.95\n",
    "# 11074|SIMOB|7|1998-05-06 00:00:00.000|1998-06-03 00:00:00.000||2|18.44\n",
    "# 11075|RICSU|8|1998-05-06 00:00:00.000|1998-06-03 00:00:00.000||2|6.19\n",
    "# 11076|BONAP|4|1998-05-06 00:00:00.000|1998-06-03 00:00:00.000||2|38.28\n",
    "# 11077|RATTC|1|1998-05-06 00:00:00.000|1998-06-03 00:00:00.000||2|8.53"
   ]
  },
  {
   "metadata": {},
   "cell_type": "code",
   "outputs": [],
   "execution_count": null,
   "source": [
    "#Find the customer who has placed the most orders.\n",
    "sqlite> select * from Customers c\n",
    "   ...> join Orders o on c.CustomerID = o.CustomerID\n",
    "   ...> group by c.CustomerID\n",
    "   ...> order by count(o.OrderID) DESC limit 1;\n",
    "# SAVEA|Save-a-lot Markets|Jose Pavarotti|Sales Representative|187 Suffolk Ln.|Boise|ID|83720|USA|(208) 555-8097||10324|SAVEA|9|1996-10-08 00:00:00.000|1996-11-05 00:00:00.000|1996-10-10 00:00:00.000|1|214.27"
   ]
  },
  {
   "cell_type": "markdown",
   "metadata": {},
   "source": [
    "**Remember to submit your solutions. You can return this Jupyter notebook (.ipynb) or .py, .R, etc depending on your programming preferences. Remember to also submit your SQL queries. No need to submit the text files for the programming exercises.**"
   ]
  }
 ],
 "metadata": {
  "kernelspec": {
   "display_name": "Python 3 (ipykernel)",
   "language": "python",
   "name": "python3"
  },
  "language_info": {
   "codemirror_mode": {
    "name": "ipython",
    "version": 3
   },
   "file_extension": ".py",
   "mimetype": "text/x-python",
   "name": "python",
   "nbconvert_exporter": "python",
   "pygments_lexer": "ipython3",
   "version": "3.9.7"
  }
 },
 "nbformat": 4,
 "nbformat_minor": 4
}
