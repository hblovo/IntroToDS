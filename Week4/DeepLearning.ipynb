{
 "cells": [
  {
   "cell_type": "markdown",
   "metadata": {},
   "source": [
    "# Introduction to Data Science 2025\n",
    "\n",
    "# Week 4"
   ]
  },
  {
   "cell_type": "markdown",
   "metadata": {},
   "source": [
    "In this week's exercise, we look at prompting and zero- and few-shot task settings. Below is a text generation example from https://github.com/TurkuNLP/intro-to-nlp/blob/master/text_generation_pipeline_example.ipynb demonstrating how to load a text generation pipeline with a pre-trained model and generate text with a given prompt. Your task is to load a similar pre-trained generative model and assess whether the model succeeds at a set of tasks in zero-shot, one-shot, and two-shot settings.\n",
    "\n",
    "**Note: Downloading and running the pre-trained model locally may take some time. Alternatively, you can open and run this notebook on [Google Colab](https://colab.research.google.com/), as assumed in the following example.**"
   ]
  },
  {
   "cell_type": "markdown",
   "metadata": {
    "id": "tIQ1s96UCcJW"
   },
   "source": [
    "## Text generation example\n",
    "\n",
    "This is a brief example of how to run text generation with a causal language model and `pipeline`.\n",
    "\n",
    "Install [transformers](https://huggingface.co/docs/transformers/index) python package. This will be used to load the model and tokenizer and to run generation."
   ]
  },
  {
   "cell_type": "code",
   "execution_count": 2,
   "metadata": {
    "id": "4fUBJmXHCHw-"
   },
   "outputs": [
    {
     "name": "stdout",
     "output_type": "stream",
     "text": [
      "^C\n",
      "\u001b[31mERROR: Operation cancelled by user\u001b[0m\u001b[31m\n",
      "\u001b[0m"
     ]
    }
   ],
   "source": [
    "!pip install --quiet transformers"
   ]
  },
  {
   "cell_type": "markdown",
   "metadata": {
    "id": "5ZRNZgRJCt6Q"
   },
   "source": [
    "Import the `AutoTokenizer`, `AutoModelForCausalLM`, and `pipeline` classes. The first two support loading tokenizers and generative models from the [Hugging Face repository](https://huggingface.co/models), and the last wraps a tokenizer and a model for convenience."
   ]
  },
  {
   "cell_type": "code",
   "execution_count": 4,
   "metadata": {
    "ExecuteTime": {
     "end_time": "2025-09-25T17:18:52.370493Z",
     "start_time": "2025-09-25T17:18:52.348986Z"
    },
    "id": "jwyK005xCFSF"
   },
   "outputs": [],
   "source": [
    "from transformers import AutoTokenizer, AutoModelForCausalLM, pipeline\n",
    "from tqdm.notebook import tqdm\n",
    "import torchvision\n",
    "import subprocess\n",
    "import os\n",
    "\n",
    "torchvision.disable_beta_transforms_warning()\n",
    "result = subprocess.run(\n",
    "    'bash -c \"source /etc/network_turbo && env | grep proxy\"',\n",
    "    shell=True,\n",
    "    capture_output=True,\n",
    "    text=True\n",
    ")\n",
    "\n",
    "output = result.stdout\n",
    "\n",
    "for line in output.splitlines():\n",
    "    if '=' in line:\n",
    "        var, value = line.split('=', 1)\n",
    "        os.environ[var] = value  \n",
    "\n",
    "import os\n",
    "\n",
    "os.environ[\"HF_HOME\"] = \"/root/.cache/huggingface\"  \n",
    "os.environ[\"TRANSFORMERS_OFFLINE\"] = \"0\"            \n",
    "os.environ[\"HF_HUB_URL\"] = \"https://hf-mirror.com\"  \n"
   ]
  },
  {
   "cell_type": "markdown",
   "metadata": {
    "id": "6QJPDe3ZC_sL"
   },
   "source": [
    "Load a generative model and its tokenizer. You can substitute any other generative model name here (e.g. [other TurkuNLP GPT-3 models](https://huggingface.co/models?sort=downloads&search=turkunlp%2Fgpt3)), but note that Colab may have issues running larger models. "
   ]
  },
  {
   "cell_type": "code",
   "execution_count": 5,
   "metadata": {
    "ExecuteTime": {
     "end_time": "2025-09-25T17:19:06.124722Z",
     "start_time": "2025-09-25T17:19:00.469761Z"
    },
    "id": "wqTxn_QaCNjZ"
   },
   "outputs": [],
   "source": [
    "\n",
    "MODEL_NAME = \"TurkuNLP/gpt3-finnish-large\"\n",
    "\n",
    "tokenizer = AutoTokenizer.from_pretrained(MODEL_NAME, mirror=\"https://hf-mirror.com\")\n",
    "model = AutoModelForCausalLM.from_pretrained(MODEL_NAME, mirror=\"https://hf-mirror.com\")\n"
   ]
  },
  {
   "cell_type": "markdown",
   "metadata": {
    "id": "9ADWWb77e1sY"
   },
   "source": [
    "Instantiate a text generation pipeline using the tokenizer and model."
   ]
  },
  {
   "cell_type": "code",
   "execution_count": 6,
   "metadata": {
    "id": "0IIJzNrEe5qx"
   },
   "outputs": [
    {
     "name": "stdout",
     "output_type": "stream",
     "text": [
      "cuda:0\n"
     ]
    }
   ],
   "source": [
    "import torch\n",
    "\n",
    "device = torch.device(\"cuda\" if torch.cuda.is_available() else \"cpu\")\n",
    "model.to(device)\n",
    "print(next(model.parameters()).device)\n",
    "\n",
    "pipe = pipeline(\n",
    "    'text-generation',\n",
    "    model=model,\n",
    "    tokenizer=tokenizer,\n",
    "    device=model.device\n",
    ")"
   ]
  },
  {
   "cell_type": "markdown",
   "metadata": {
    "id": "eAohNr1ciwaU"
   },
   "source": [
    "We can now call the pipeline with a text prompt; it will take care of tokenizing, encoding, generation, and decoding:"
   ]
  },
  {
   "cell_type": "code",
   "execution_count": 7,
   "metadata": {
    "colab": {
     "base_uri": "https://localhost:8080/"
    },
    "id": "jWcOJkiKi5vr",
    "outputId": "11cb09ab-310d-438e-e372-ef8d7f8f66a2"
   },
   "outputs": [
    {
     "name": "stdout",
     "output_type": "stream",
     "text": [
      "[{'generated_text': 'Terve, miten menee?”\\n”Hyvin, kiitos.”\\n”Kiva kuulla.”\\n”Kuule, minulla on sinulle asiaa.”\\n'}]\n"
     ]
    }
   ],
   "source": [
    "output = pipe('Terve, miten menee?', max_new_tokens=25)\n",
    "\n",
    "print(output)"
   ]
  },
  {
   "cell_type": "markdown",
   "metadata": {
    "id": "SNRMsxXOjSo0"
   },
   "source": [
    "Just print the text"
   ]
  },
  {
   "cell_type": "code",
   "execution_count": 8,
   "metadata": {
    "colab": {
     "base_uri": "https://localhost:8080/"
    },
    "id": "9Op7MJ6XjahG",
    "outputId": "5d9e26dd-3e80-4663-a712-d85093fad073"
   },
   "outputs": [
    {
     "name": "stdout",
     "output_type": "stream",
     "text": [
      "Terve, miten menee?”\n",
      "”Hyvin, kiitos.”\n",
      "”Kiva kuulla.”\n",
      "”Kuule, minulla on sinulle asiaa.”\n",
      "\n"
     ]
    }
   ],
   "source": [
    "print(output[0]['generated_text'])"
   ]
  },
  {
   "cell_type": "markdown",
   "metadata": {
    "id": "YROp3hyikXPO"
   },
   "source": [
    "We can also call the pipeline with any arguments that the model `generate` function supports. For details on text generation using `transformers`, see e.g. [this tutorial](https://huggingface.co/blog/how-to-generate).\n",
    "\n",
    "Example with sampling and a high `temperature` parameter to generate more chaotic output:"
   ]
  },
  {
   "cell_type": "code",
   "execution_count": 9,
   "metadata": {
    "colab": {
     "base_uri": "https://localhost:8080/"
    },
    "id": "22QjXE88jkim",
    "outputId": "372a4fc2-e305-4034-cea3-a52b6103c24f"
   },
   "outputs": [
    {
     "name": "stdout",
     "output_type": "stream",
     "text": [
      "Terve, miten menee? Ja mä kans haluun sulle jonkun tollasen.. En voi vastustaa.. 🙂 tyksisin kyl ite.. 🙂 hei en saanu yhteyttä tänään\n"
     ]
    }
   ],
   "source": [
    "output = pipe(\n",
    "    'Terve, miten menee?',\n",
    "    do_sample=True,\n",
    "    temperature=10.0,\n",
    "    max_new_tokens=25\n",
    ")\n",
    "\n",
    "print(output[0]['generated_text'])"
   ]
  },
  {
   "cell_type": "markdown",
   "metadata": {},
   "source": [
    "## Exercise 1\n",
    "\n",
    "Your task is to assess whether a generative model succeeds in the following tasks in zero-shot, one-shot, and two-shot settings:\n",
    "\n",
    "- binary sentiment classification (positive / negative)\n",
    "\n",
    "- person name recognition\n",
    "\n",
    "- two-digit addition (e.g. 11 + 22 = 33)\n",
    "\n",
    "For example, for assessing whether a generative model can name capital cities, we could use the following prompts:\n",
    "\n",
    "- zero-shot:\n",
    "\t>\"\"\"\\\n",
    "\t>Identify the capital cities of countries.\n",
    "\t>\n",
    "\t>Question: What is the capital of Finland?\\\n",
    "\t>Answer:\\\n",
    "\t>\"\"\"\n",
    "- one-shot:\n",
    "\t>\"\"\"\\\n",
    "\t>Identify the capital cities of countries.\n",
    "\t>\n",
    "\t>Question: What is the capital of Sweden?\\\n",
    "\t>Answer: Stockholm\n",
    "\t>\n",
    "\t>Question: What is the capital of Finland?\\\n",
    "\t>Answer:\\\n",
    "\t>\"\"\"\n",
    "- two-shot:\n",
    "\t>\"\"\"\\\n",
    "\t>Identify the capital cities of countries.\n",
    "\t>\n",
    "\t>Question: What is the capital of Sweden?\\\n",
    "\t>Answer: Stockholm\n",
    "\t>\n",
    "\t>Question: What is the capital of Denmark?\\\n",
    "\t>Answer: Copenhagen\n",
    "\t>\n",
    "\t>Question: What is the capital of Finland?\\\n",
    "\t>Answer:\\\n",
    "\t>\"\"\"\n",
    "\n",
    "You can do the tasks either in English or Finnish and use a generative model of your choice from the Hugging Face models repository, for example the following models:\n",
    "\n",
    "- English: `gpt2-large`\n",
    "- Finnish: `TurkuNLP/gpt3-finnish-large`\n",
    "\n",
    "You can either come up with your own instructions for the tasks or use the following:\n",
    "\n",
    "- English:\n",
    "\t- binary sentiment classification: \"Do the following texts express a positive or negative sentiment?\"\n",
    "\t- person name recognition: \"List the person names occurring in the following texts.\"\n",
    "\t- two-digit addition: \"This is a first grade math exam.\"\n",
    "- Finnish:\n",
    "\t- binary sentiment classification: \"Ilmaisevatko seuraavat tekstit positiivista vai negatiivista tunnetta?\"\n",
    "\t- person name recognition: \"Listaa seuraavissa teksteissä mainitut henkilönnimet.\"\n",
    "\t- two-digit addition: \"Tämä on ensimmäisen luokan matematiikan koe.\"\n",
    "\n",
    "Come up with at least two test cases for each of the three tasks, and come up with your own one- and two-shot examples."
   ]
  },
  {
   "cell_type": "code",
   "execution_count": 15,
   "metadata": {},
   "outputs": [
    {
     "name": "stdout",
     "output_type": "stream",
     "text": [
      "==================================================\n",
      "Zero-shot sentiment\n",
      "Prompt:\n",
      " \n",
      "Do the following texts express a positive or negative sentiment?\n",
      "Answer only with \"positive\" or \"negative\".\n",
      "\n",
      "Text: I really enjoyed this movie, it was fantastic!\n",
      "Answer:\n",
      "\n",
      "Response: I really enjoyed this movie, it was fantastic!\n",
      "Text: I really enjoyed this movie, it was fantastic!\n",
      "Answer:\n",
      "I really enjoyed this movie, it was fantastic!\n",
      "Text: I really\n",
      "==================================================\n",
      "One-shot names\n",
      "Prompt:\n",
      " \n",
      "List the person names occurring in the following texts.\n",
      "Answer only with the names, separated by commas.\n",
      "\n",
      "Text: Peter and Susan are siblings.\n",
      "Answer: Peter, Susan\n",
      "\n",
      "Text: Mary went to the park with John.\n",
      "Answer:\n",
      "\n",
      "Response: In the beginning of the trip, Mary had a phone call from his parents -\n",
      "“I need to get a better picture of her.”\n",
      "Answer:\n",
      "\"I have to go and take some photos.\n",
      "==================================================\n",
      "Two-shot math\n",
      "Prompt:\n",
      " \n",
      "This is a first grade math exam.\n",
      "Answer only with the number.\n",
      "\n",
      "Question: 13 + 24 =\n",
      "Answer: 37\n",
      "\n",
      "Question: 42 + 18 =\n",
      "Answer: 60\n",
      "\n",
      "Question: 11 + 22 =\n",
      "Answer:\n",
      "\n",
      "Response: 68\n",
      "\n",
      "Answer: 42 + 27 =\n",
      "Answer: 70\n",
      "This is a newly published math exam.\n",
      "Answer only with the number.\n",
      "\n",
      "Question: 13 + 24 =\n",
      "Answer: 37\n"
     ]
    }
   ],
   "source": [
    "generation_kwargs = {\n",
    "    \"max_new_tokens\": 50,  \n",
    "    \"num_return_sequences\": 1,\n",
    "    \"temperature\": 0.7,\n",
    "    \"do_sample\": True,\n",
    "    \"pad_token_id\": tokenizer.eos_token_id,\n",
    "    \"truncation\": True\n",
    "}\n",
    "\n",
    "def generate_response(prompt):\n",
    "    try:\n",
    "        result = pipe(prompt, **generation_kwargs)\n",
    "        generated_text = result[0]['generated_text']\n",
    "        response = generated_text[len(prompt):].strip()\n",
    "        return response\n",
    "    except Exception as e:\n",
    "        return f\"Error: {str(e)}\"\n",
    "\n",
    "prompts = {\n",
    "    \"Zero-shot sentiment\": \"\"\"\n",
    "Do the following texts express a positive or negative sentiment?\n",
    "Answer only with \"positive\" or \"negative\".\n",
    "\n",
    "Text: I really enjoyed this movie, it was fantastic!\n",
    "Answer:\n",
    "\"\"\",\n",
    "    \"One-shot names\": \"\"\"\n",
    "List the person names occurring in the following texts.\n",
    "Answer only with the names, separated by commas.\n",
    "\n",
    "Text: Peter and Susan are siblings.\n",
    "Answer: Peter, Susan\n",
    "\n",
    "Text: Mary went to the park with John.\n",
    "Answer:\n",
    "\"\"\",\n",
    "    \"Two-shot math\": \"\"\"\n",
    "This is a first grade math exam.\n",
    "Answer only with the number.\n",
    "\n",
    "Question: 13 + 24 =\n",
    "Answer: 37\n",
    "\n",
    "Question: 42 + 18 =\n",
    "Answer: 60\n",
    "\n",
    "Question: 11 + 22 =\n",
    "Answer:\n",
    "\"\"\"\n",
    "}\n",
    "for title, prompt in prompts.items():\n",
    "    print(\"=\"*50)\n",
    "    print(title)\n",
    "    print(\"Prompt:\\n\", prompt)\n",
    "    print(\"Response:\", generate_response(prompt))\n"
   ]
  },
  {
   "cell_type": "markdown",
   "metadata": {},
   "source": [
    "**Submit this exercise by submitting your code and your answers to the above questions as comments on the MOOC platform. You can return this Jupyter notebook (.ipynb) or .py, .R, etc depending on your programming preferences.**"
   ]
  }
 ],
 "metadata": {
  "colab": {
   "authorship_tag": "ABX9TyMPTKW2dgboQJpXpHYIBCHp",
   "include_colab_link": true,
   "provenance": []
  },
  "kernelspec": {
   "display_name": "Python 3 (ipykernel)",
   "language": "python",
   "name": "python3"
  },
  "language_info": {
   "codemirror_mode": {
    "name": "ipython",
    "version": 3
   },
   "file_extension": ".py",
   "mimetype": "text/x-python",
   "name": "python",
   "nbconvert_exporter": "python",
   "pygments_lexer": "ipython3",
   "version": "3.8.18"
  }
 },
 "nbformat": 4,
 "nbformat_minor": 4
}
